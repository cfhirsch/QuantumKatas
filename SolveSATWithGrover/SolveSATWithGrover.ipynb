{
 "cells": [
  {
   "cell_type": "markdown",
   "metadata": {},
   "source": [
    "# Solving SAT problem with Grover's algorithm\n",
    "\n",
    "The **\"Solving SAT problem with Grover's algorithm\"** quantum kata is a series of exercises designed\n",
    "to get you comfortable with using Grover's algorithm to solve realistic problems\n",
    "using boolean satisfiability problems (SAT) as an example.\n",
    "\n",
    "Each task is wrapped in one operation preceded by the description of the task.\n",
    "Your goal is to fill in the blank (marked with the `// ...` comments)\n",
    "with some Q# code that solves the task. To verify your answer, run the cell using Ctrl+Enter (⌘+Enter on macOS).\n",
    "\n",
    "Within each section, tasks are given in approximate order of increasing difficulty; \n",
    "harder ones are marked with asterisks."
   ]
  },
  {
   "cell_type": "markdown",
   "metadata": {},
   "source": [
    "## Part I. Oracles for SAT problems\n",
    "\n",
    "The most interesting part of learning Grover's algorithm is solving realistic problems.\n",
    "This means using oracles which express an actual problem and not simply hard-code a known solution.\n",
    "In this section we'll learn how to express boolean satisfiability problems as quantum oracles."
   ]
  },
  {
   "cell_type": "markdown",
   "metadata": {},
   "source": [
    "### Task 1.1. The AND oracle: $f(x) = x_0 \\wedge x_1$\n",
    "\n",
    "**Inputs:** \n",
    "\n",
    "  1. 2 qubits in an arbitrary state $|x\\rangle$ (input/query register).\n",
    "\n",
    "  2. A qubit in an arbitrary state $|y\\rangle$ (target qubit).\n",
    "\n",
    "**Goal:**\n",
    "\n",
    "Transform state $|x,y\\rangle$ into state $|x, y \\oplus f(x)\\rangle$ ($\\oplus$ is addition modulo 2), \n",
    "i.e., flip the target state if all qubits of the query register are in the $|1\\rangle$ state, \n",
    "and leave it unchanged otherwise.\n",
    "\n",
    "Leave the query register in the same state it started in.\n",
    "\n",
    "**Stretch Goal:** \n",
    "\n",
    "Can you implement the oracle so that it would work \n",
    "for `queryRegister` containing an arbitrary number of qubits?"
   ]
  },
  {
   "cell_type": "code",
   "execution_count": 1,
   "metadata": {},
   "outputs": [
    {
     "data": {
      "application/x-qsharp-data": "\"Success!\"",
      "text/plain": [
       "Success!"
      ]
     },
     "execution_count": 1,
     "metadata": {},
     "output_type": "execute_result"
    }
   ],
   "source": [
    "%kata T11_Oracle_And \n",
    "\n",
    "operation Oracle_And (queryRegister : Qubit[], target : Qubit) : Unit is Adj {\n",
    "    Controlled X(queryRegister, target);\n",
    "}"
   ]
  },
  {
   "cell_type": "markdown",
   "metadata": {},
   "source": [
    "*Can't come up with a solution? See the explained solution in the [Solving SAT problem with Grover's algorithm Workbook](./Workbook_SolveSATWithGrover.ipynb#Task-1.1.-The-AND-oracle:-$f(x)-=-x_0-\\wedge-x_1$).*"
   ]
  },
  {
   "cell_type": "markdown",
   "metadata": {},
   "source": [
    "### Task 1.2. The OR oracle: $f(x) = x_0 \\vee x_1$\n",
    "\n",
    "**Inputs:** \n",
    "\n",
    "  1. 2 qubits in an arbitrary state $|x\\rangle$ (input/query register).\n",
    "\n",
    "  2. A qubit in an arbitrary state $|y\\rangle$ (target qubit).\n",
    "\n",
    "**Goal:** \n",
    "\n",
    "Transform state $|x,y\\rangle$ into state $|x, y \\oplus f(x)\\rangle$ ($\\oplus$ is addition modulo 2), \n",
    "i.e., flip the target state if at least one qubit of the query register is in the $|1\\rangle$ state, \n",
    "and leave it unchanged otherwise.\n",
    "\n",
    "Leave the query register in the same state it started in.\n",
    "\n",
    "**Stretch Goal:** \n",
    "\n",
    "Can you implement the oracle so that it would work \n",
    "for `queryRegister` containing an arbitrary number of qubits?"
   ]
  },
  {
   "cell_type": "code",
   "execution_count": 2,
   "metadata": {},
   "outputs": [
    {
     "data": {
      "application/x-qsharp-data": "\"Success!\"",
      "text/plain": [
       "Success!"
      ]
     },
     "execution_count": 2,
     "metadata": {},
     "output_type": "execute_result"
    }
   ],
   "source": [
    "%kata T12_Oracle_Or \n",
    "\n",
    "operation Oracle_Or (queryRegister : Qubit[], target : Qubit) : Unit is Adj {\n",
    "    within {\n",
    "        ApplyToEachA(X, queryRegister);\n",
    "    }\n",
    "    apply {\n",
    "        Oracle_And(queryRegister, target);\n",
    "    }\n",
    "    \n",
    "    X(target);\n",
    "}"
   ]
  },
  {
   "cell_type": "markdown",
   "metadata": {},
   "source": [
    "*Can't come up with a solution? See the explained solution in the [Solving SAT problem with Grover's algorithm Workbook](./Workbook_SolveSATWithGrover.ipynb#Task-1.2.-The-OR-oracle:-$f(x)-=-x_0-\\vee-x_1$).*"
   ]
  },
  {
   "cell_type": "markdown",
   "metadata": {},
   "source": [
    "### Task 1.3. The XOR oracle: $f(x) = x_0 \\oplus x_1$\n",
    "\n",
    "**Inputs:** \n",
    "\n",
    "  1. 2 qubits in an arbitrary state $|x\\rangle$ (input/query register).\n",
    "\n",
    "  2. A qubit in an arbitrary state $|y\\rangle$ (target qubit).\n",
    "\n",
    "**Goal:** \n",
    "\n",
    "Transform state $|x,y\\rangle$ into state $|x, y \\oplus f(x)\\rangle$ ($\\oplus$ is addition modulo 2), \n",
    "i.e., flip the target state if the qubits of the query register are in different states, \n",
    "and leave it unchanged otherwise.\n",
    "\n",
    "Leave the query register in the same state it started in.\n",
    "\n",
    "**Stretch Goal:** \n",
    "\n",
    "Can you implement the oracle so that it would work \n",
    "for `queryRegister` containing an arbitrary number of qubits?"
   ]
  },
  {
   "cell_type": "code",
   "execution_count": 3,
   "metadata": {},
   "outputs": [
    {
     "data": {
      "application/x-qsharp-data": "\"Success!\"",
      "text/plain": [
       "Success!"
      ]
     },
     "execution_count": 3,
     "metadata": {},
     "output_type": "execute_result"
    }
   ],
   "source": [
    "%kata T13_Oracle_Xor \n",
    "\n",
    "operation Oracle_Xor (queryRegister : Qubit[], target : Qubit) : Unit is Adj {\n",
    "    // For two bits, the mask would be |01> or |10>\n",
    "    // For three bits, |001>, |010>, |100>, |111>\n",
    "    // For four bits: |0001>, |0010>, |0100>, |1000>, |0111>, |1011>, |1110>\n",
    "    // Overall pattern is \"odd number of 1s\".\n",
    "    for i in 0 .. Length(queryRegister) - 1 {\n",
    "        Controlled X([queryRegister[i]], target);\n",
    "    }\n",
    "}"
   ]
  },
  {
   "cell_type": "markdown",
   "metadata": {},
   "source": [
    "*Can't come up with a solution? See the explained solution in the [Solving SAT problem with Grover's algorithm Workbook](./Workbook_SolveSATWithGrover.ipynb#Task-1.3.-The-XOR-oracle:-$f(x)-=-x_0-\\oplus-x_1$).*"
   ]
  },
  {
   "cell_type": "markdown",
   "metadata": {},
   "source": [
    "### Task 1.4. Alternating bits oracle: $f(x) = (x_0 \\oplus x_1) \\wedge (x_1 \\oplus x_2) \\wedge \\dots \\wedge (x_{N-2} \\oplus x_{N-1})$\n",
    "\n",
    "**Inputs:** \n",
    "\n",
    "  1. N qubits in an arbitrary state $|x\\rangle$ (input/query register).\n",
    "\n",
    "  2. A qubit in an arbitrary state $|y\\rangle$ (target qubit).\n",
    "\n",
    "**Goal:**\n",
    "\n",
    "Transform state $|x,y\\rangle$ into state $|x, y \\oplus f(x)\\rangle$ ($\\oplus$ is addition modulo 2).\n",
    "\n",
    "Leave the query register in the same state it started in.\n",
    "\n",
    "> This oracle marks two states similar to the state explored in task 1.2 of the GroversAlgorithm kata: \n",
    "$|10101...\\rangle$ and $|01010...\\rangle$.  \n",
    "It is possible (and quite straightforward) to implement this oracle based on this observation; \n",
    "however, for the purposes of learning to write oracles to solve SAT problems we recommend using the representation above.\n",
    "\n",
    "<details>\n",
    "  <summary><b>Need a hint? Click here</b></summary>\n",
    "  Remember that you can use operations defined in previous tasks.\n",
    "</details>"
   ]
  },
  {
   "cell_type": "code",
   "execution_count": 4,
   "metadata": {},
   "outputs": [
    {
     "data": {
      "application/x-qsharp-data": "\"Success!\"",
      "text/plain": [
       "Success!"
      ]
     },
     "execution_count": 4,
     "metadata": {},
     "output_type": "execute_result"
    }
   ],
   "source": [
    "%kata T14_Oracle_AlternatingBits \n",
    "\n",
    "operation Oracle_AlternatingBits (queryRegister : Qubit[], target : Qubit) : Unit is Adj {\n",
    "    use anc = Qubit[Length(queryRegister) - 1];\n",
    "    \n",
    "    within {\n",
    "        // anc[i] = queryRegister[i] XOR queryRegister[i + 1]\n",
    "        for i in 0 .. Length(queryRegister) - 2 {\n",
    "            Oracle_Xor([queryRegister[i], queryRegister[i + 1]], anc[i]);\n",
    "        }\n",
    "    }\n",
    "    apply {\n",
    "        Oracle_And(anc, target);\n",
    "    }\n",
    "}"
   ]
  },
  {
   "cell_type": "markdown",
   "metadata": {},
   "source": [
    "*Can't come up with a solution? See the explained solution in the [Solving SAT problem with Grover's algorithm Workbook](./Workbook_SolveSATWithGrover.ipynb#Task-1.4.-Alternating-bits-oracle:-$f(x)-=-(x_0-\\oplus-x_1)-\\wedge-(x_1-\\oplus-x_2)-\\wedge-\\dots-\\wedge-(x_{N-2}-\\oplus-x_{N-1})$).*"
   ]
  },
  {
   "cell_type": "markdown",
   "metadata": {},
   "source": [
    "### Task 1.5. Evaluate one clause of a SAT formula\n",
    "\n",
    "> For SAT problems, $f(x)$ is represented as a conjunction (an AND operation) of several clauses on $N$ variables,\n",
    "and each clause is a disjunction (an OR operation) of **one or several** variables or negated variables:\n",
    ">\n",
    "> $$clause(x) = \\bigvee_k y_{k},\\text{ where }y_{k} =\\text{ either }x_j\\text{ or }\\neg x_j\\text{ for some }j \\in \\{0, \\dots, N-1\\}$$\n",
    ">\n",
    "> For example, one of the possible clauses on two variables is:\n",
    ">\n",
    "> $$clause(x) = x_0 \\vee \\neg x_1$$\n",
    "\n",
    "**Inputs:**\n",
    "\n",
    "  1. N qubits in an arbitrary state $|x\\rangle$ (input/query register).\n",
    "\n",
    "  2. A qubit in an arbitrary state $|y\\rangle$ (target qubit).\n",
    "\n",
    "  3. A 1-dimensional array of tuples `clause` which describes one clause of a SAT problem instance $clause(x)$.\n",
    "\n",
    "`clause` is an array of one or more tuples, each of them describing one component of the clause.\n",
    "\n",
    "Each tuple is an `(Int, Bool)` pair:\n",
    "\n",
    "* the first element is the index $j$ of the variable $x_j$, \n",
    "* the second element is `true` if the variable is included as itself ($x_j$) and `false` if it is included as a negation ($\\neg x_j$).\n",
    "\n",
    "**Example:**\n",
    "\n",
    "* The clause $x_0 \\vee \\neg x_1$ can be represented as `[(0, true), (1, false)]`.\n",
    "\n",
    "**Goal:**\n",
    "\n",
    "Transform state $|x,y\\rangle$ into state $|x, y \\oplus f(x)\\rangle$ ($\\oplus$ is addition modulo 2).\n",
    "\n",
    "Leave the query register in the same state it started in."
   ]
  },
  {
   "cell_type": "code",
   "execution_count": 5,
   "metadata": {},
   "outputs": [
    {
     "data": {
      "application/x-qsharp-data": "[\"GetIndex\"]",
      "text/html": [
       "<ul><li>GetIndex</li></ul>"
      ],
      "text/plain": [
       "GetIndex"
      ]
     },
     "execution_count": 5,
     "metadata": {},
     "output_type": "execute_result"
    }
   ],
   "source": [
    "function GetIndex(i: Int, b : Bool) : Int {\n",
    "    return i;\n",
    "} "
   ]
  },
  {
   "cell_type": "code",
   "execution_count": 6,
   "metadata": {},
   "outputs": [
    {
     "data": {
      "application/x-qsharp-data": "[\"GetBool\"]",
      "text/html": [
       "<ul><li>GetBool</li></ul>"
      ],
      "text/plain": [
       "GetBool"
      ]
     },
     "execution_count": 6,
     "metadata": {},
     "output_type": "execute_result"
    }
   ],
   "source": [
    "function GetBool(i: Int, b: Bool) : Bool {\n",
    "    return b;\n",
    "}"
   ]
  },
  {
   "cell_type": "code",
   "execution_count": 7,
   "metadata": {},
   "outputs": [
    {
     "name": "stdout",
     "output_type": "stream",
     "text": [
      "Testing SAT clause instance ¬x2...\n",
      "Testing SAT clause instance ¬x0 ∨ x2...\n",
      "Testing SAT clause instance ¬x2 ∨ ¬x0 ∨ x1...\n",
      "Testing SAT clause instance ¬x3 ∨ x1 ∨ ¬x0 ∨ x2...\n",
      "Testing SAT clause instance x0 ∨ x1 ∨ ¬x2...\n",
      "Testing SAT clause instance x2 ∨ ¬x4 ∨ ¬x1 ∨ ¬x3 ∨ ¬x0...\n",
      "Testing SAT clause instance ¬x2 ∨ x5 ∨ x4 ∨ x3 ∨ x0 ∨ ¬x1...\n",
      "Testing SAT clause instance x2 ∨ ¬x4 ∨ x1 ∨ x0 ∨ ¬x3...\n",
      "Testing SAT clause instance x0 ∨ ¬x1 ∨ ¬x2...\n",
      "Testing SAT clause instance x0 ∨ x2 ∨ x3 ∨ ¬x1...\n"
     ]
    },
    {
     "data": {
      "application/x-qsharp-data": "\"Success!\"",
      "text/plain": [
       "Success!"
      ]
     },
     "execution_count": 7,
     "metadata": {},
     "output_type": "execute_result"
    }
   ],
   "source": [
    "%kata T15_Oracle_SATClause\n",
    "\n",
    "open Microsoft.Quantum.Arrays;\n",
    "\n",
    "operation Oracle_SATClause (queryRegister : Qubit[], target : Qubit, clause : (Int, Bool)[]) : Unit is Adj {\n",
    "    let indices = Mapped(GetIndex, clause);\n",
    "    \n",
    "    within {\n",
    "        for i in 0 .. Length(clause) - 1 {\n",
    "            let idx = GetIndex(clause[i]);\n",
    "            let b = GetBool(clause[i]);\n",
    "            if (not b) {\n",
    "                X(queryRegister[idx]);\n",
    "            }\n",
    "        }\n",
    "    }\n",
    "    apply {\n",
    "        Oracle_Or(Subarray(indices, queryRegister), target);\n",
    "    }\n",
    "}"
   ]
  },
  {
   "cell_type": "markdown",
   "metadata": {},
   "source": [
    "*Can't come up with a solution? See the explained solution in the [Solving SAT problem with Grover's algorithm Workbook](./Workbook_SolveSATWithGrover.ipynb#Task-1.5.-Evaluate-one-clause-of-a-SAT-formula).*"
   ]
  },
  {
   "cell_type": "markdown",
   "metadata": {},
   "source": [
    "### Task 1.6. k-SAT problem oracle\n",
    "\n",
    "> For k-SAT problems, $f(x)$ is represented as a conjunction (an AND operation) of $M$ clauses on $N$ variables,\n",
    "and each clause is a disjunction (an OR operation) of **one or several** variables or negated variables:\n",
    ">\n",
    "> $$f(x) = \\bigwedge_i \\big(\\bigvee_k y_{ik} \\big),\\text{ where }y_{ik} =\\text{ either }x_j\\text{ or }\\neg x_j\\text{ for some }j \\in \\{0, \\dots, N-1\\}$$\n",
    "\n",
    "**Inputs:**\n",
    "\n",
    "  1. N qubits in an arbitrary state $|x\\rangle$ (input/query register).\n",
    "\n",
    "  2. A qubit in an arbitrary state $|y\\rangle$ (target qubit).\n",
    "\n",
    "  3. A 2-dimensional array of tuples `problem` which describes the k-SAT problem instance $f(x)$.\n",
    "\n",
    "$i$-th element of `problem` describes the $i$-th clause of $f(x)$; \n",
    "it is an array of one or more tuples, each of them describing one component of the clause.\n",
    "\n",
    "Each tuple is an `(Int, Bool)` pair:\n",
    "\n",
    "* the first element is the index $j$ of the variable $x_j$, \n",
    "* the second element is `true` if the variable is included as itself ($x_j$) and `false` if it is included as a negation ($\\neg x_j$).\n",
    "\n",
    "**Example:**\n",
    "\n",
    "A more general case of the OR oracle for 3 variables $f(x) = (x_0 \\vee x_1 \\vee x_2)$ can be represented as `[[(0, true), (1, true), (2, true)]]`.\n",
    "\n",
    "**Goal:**\n",
    "\n",
    "Transform state $|x,y\\rangle$ into state $|x, y \\oplus f(x)\\rangle$ ($\\oplus$ is addition modulo 2).\n",
    "\n",
    "Leave the query register in the same state it started in."
   ]
  },
  {
   "cell_type": "code",
   "execution_count": 8,
   "metadata": {},
   "outputs": [
    {
     "name": "stdout",
     "output_type": "stream",
     "text": [
      "Testing 2-SAT instance (2, (x0 ∨ x1))...\n",
      "Testing 2-SAT instance (2, (x0 ∨ x1) ∧ (¬x1 ∨ ¬x0))...\n",
      "Testing 2-SAT instance (3, (¬x1 ∨ ¬x2) ∧ (x0 ∨ x1) ∧ (¬x1 ∨ ¬x0) ∧ (x2 ∨ x1))...\n",
      "Testing k-SAT instance (3, (¬x1 ∨ ¬x2) ∧ (¬x2))...\n",
      "Testing k-SAT instance (4, (¬x0) ∧ (¬x1 ∨ x3) ∧ (¬x1 ∨ ¬x0))...\n",
      "Testing k-SAT instance (5, (¬x1 ∨ x4 ∨ x3 ∨ ¬x0) ∧ (¬x4 ∨ x3 ∨ ¬x0 ∨ ¬x1) ∧ (x1 ∨ x0) ∧ (¬x3 ∨ x1 ∨ x4))...\n",
      "Testing k-SAT instance (6, (x1 ∨ ¬x5 ∨ ¬x4) ∧ (x3 ∨ ¬x5 ∨ ¬x2 ∨ x0) ∧ (¬x0 ∨ x1 ∨ ¬x2) ∧ (¬x0) ∧ (x1 ∨ ¬x4 ∨ ¬x0 ∨ ¬x5))...\n"
     ]
    },
    {
     "data": {
      "application/x-qsharp-data": "\"Success!\"",
      "text/plain": [
       "Success!"
      ]
     },
     "execution_count": 8,
     "metadata": {},
     "output_type": "execute_result"
    }
   ],
   "source": [
    "%kata T16_Oracle_SAT \n",
    "\n",
    "operation Oracle_SAT (queryRegister : Qubit[], target : Qubit, problem : (Int, Bool)[][]) : Unit is Adj {\n",
    "    use anc = Qubit[Length(problem)];\n",
    "    \n",
    "    // anc[i] is an application of the ith clause.\n",
    "    within {\n",
    "        for i in 0 .. Length(problem) - 1 {\n",
    "            Oracle_SATClause(queryRegister, anc[i], problem[i]);\n",
    "        }\n",
    "    }\n",
    "    apply {\n",
    "        Oracle_And(anc, target);\n",
    "    }\n",
    "}"
   ]
  },
  {
   "cell_type": "markdown",
   "metadata": {},
   "source": [
    "*Can't come up with a solution? See the explained solution in the [Solving SAT problem with Grover's algorithm Workbook](./Workbook_SolveSATWithGrover.ipynb#Task-1.6.-k-SAT-problem-oracle).*"
   ]
  },
  {
   "cell_type": "markdown",
   "metadata": {},
   "source": [
    "## Part II. Oracles for exactly-1 3-SAT problem\n",
    "\n",
    "Exactly-1 3-SAT problem (also known as \"one-in-three 3-SAT\") is a variant of a general 3-SAT problem.\n",
    "It has a structure similar to a 3-SAT problem, but each clause must have *exactly one* true literal, \n",
    "while in a normal 3-SAT problem each clause must have *at least one* true literal."
   ]
  },
  {
   "cell_type": "markdown",
   "metadata": {},
   "source": [
    "### Task 2.1. \"Exactly one $|1\\rangle$\" oracle\n",
    "\n",
    "**Inputs:** \n",
    "\n",
    "  1. 3 qubits in an arbitrary state $|x\\rangle$ (input/query register).\n",
    "\n",
    "  2. A qubit in an arbitrary state $|y\\rangle$ (target qubit).\n",
    "\n",
    "**Goal:** \n",
    "\n",
    "Transform state $|x,y\\rangle$ into state $|x, y \\oplus f(x)\\rangle$ ($\\oplus$ is addition modulo 2), \n",
    "where $f(x) = 1$ if exactly one bit of $x$ is in the $|1\\rangle$ state, and $0$ otherwise.\n",
    "\n",
    "Leave the query register in the same state it started in.\n",
    "\n",
    "**Stretch Goal:** \n",
    "\n",
    "Can you implement the oracle so that it would work \n",
    "for `queryRegister` containing an arbitrary number of qubits?"
   ]
  },
  {
   "cell_type": "code",
   "execution_count": 9,
   "metadata": {},
   "outputs": [
    {
     "data": {
      "application/x-qsharp-data": "[\"Indicator\"]",
      "text/html": [
       "<ul><li>Indicator</li></ul>"
      ],
      "text/plain": [
       "Indicator"
      ]
     },
     "execution_count": 9,
     "metadata": {},
     "output_type": "execute_result"
    }
   ],
   "source": [
    "function Indicator(i : Int, j : Int) : Bool {\n",
    "    return i == j;\n",
    "}"
   ]
  },
  {
   "cell_type": "code",
   "execution_count": 10,
   "metadata": {},
   "outputs": [
    {
     "data": {
      "application/x-qsharp-data": "\"Success!\"",
      "text/plain": [
       "Success!"
      ]
     },
     "execution_count": 10,
     "metadata": {},
     "output_type": "execute_result"
    }
   ],
   "source": [
    "%kata T21_Oracle_Exactly1One \n",
    "\n",
    "operation Oracle_Exactly1One (queryRegister : Qubit[], target : Qubit) : Unit is Adj {\n",
    "    let N = Length(queryRegister);\n",
    "    use anc = Qubit[N]; \n",
    "    // anc[i] stores the result of x_i being true, and x_j being false for all j <> i\n",
    "    \n",
    "    within {\n",
    "        for i in 0 .. N - 1 {\n",
    "            let bitMask = Mapped(Indicator(i, _), SequenceI(0, N - 1));\n",
    "            ApplyControlledOnBitString(bitMask, X, queryRegister, anc[i]);\n",
    "        }\n",
    "    }\n",
    "    apply {\n",
    "        Oracle_Or(anc, target);\n",
    "    }\n",
    "}"
   ]
  },
  {
   "cell_type": "markdown",
   "metadata": {},
   "source": [
    "*Can't come up with a solution? See the explained solution in the [Solve SAT problem with Grover's algorithm Workbook](./Workbook_SolveSATWithGrover.ipynb#Task-2.1.-\"Exactly-one-$|1\\rangle$\"-oracle).*"
   ]
  },
  {
   "cell_type": "markdown",
   "metadata": {},
   "source": [
    "### Task 2.2. \"Exactly-1 3-SAT\" oracle\n",
    "\n",
    "**Inputs:**\n",
    "\n",
    "  1. N qubits in an arbitrary state $|x\\rangle$ (input/query register).\n",
    "\n",
    "  2. A qubit in an arbitrary state $|y\\rangle$ (target qubit).\n",
    "\n",
    "  3. A 2-dimensional array of tuples `problem` which describes the 3-SAT problem instance $f(x)$.\n",
    "\n",
    "`problem` describes the problem instance in the same format as in task 1.6;\n",
    "each clause of the formula is guaranteed to have exactly 3 terms.\n",
    "\n",
    "**Goal:**\n",
    "\n",
    "Transform state $|x,y\\rangle$ into state $|x, y \\oplus f(x)\\rangle$ ($\\oplus$ is addition modulo 2).\n",
    "\n",
    "Leave the query register in the same state it started in.\n",
    "\n",
    "**Example:**\n",
    "\n",
    "An instance of the problem $f(x) = (x_0 \\vee x_1 \\vee x_2)$ can be represented as `[[(0, true), (1, true), (2, true)]]`,\n",
    "and its solutions will be `(true, false, false)`, `(false, true, false)` and `(false, false, true)`, \n",
    "but none of the variable assignments in which more than one variable is true, which are solutions for the general SAT problem.\n",
    "\n",
    "<br/>\n",
    "<details>\n",
    "  <summary><b>Need a hint? Click here</b></summary>\n",
    "  Can you reuse parts of the code in section 1?\n",
    "</details>"
   ]
  },
  {
   "cell_type": "code",
   "execution_count": 11,
   "metadata": {},
   "outputs": [
    {
     "name": "stdout",
     "output_type": "stream",
     "text": [
      "Testing exactly-1 3-SAT instance (2, (¬x1 ∨ x0))...\n",
      "Testing exactly-1 3-SAT instance (3, (x1 ∨ x0 ∨ x2) ∧ (x2 ∨ ¬x1 ∨ ¬x0))...\n",
      "Testing exactly-1 3-SAT instance (4, (x2 ∨ x0 ∨ x3) ∧ (¬x2 ∨ x3 ∨ x1) ∧ (¬x3 ∨ ¬x1 ∨ ¬x0))...\n",
      "Testing exactly-1 3-SAT instance (5, (¬x2 ∨ ¬x0 ∨ x3) ∧ (¬x4 ∨ x2 ∨ ¬x0) ∧ (¬x4 ∨ x2 ∨ ¬x3) ∧ (¬x0 ∨ x3 ∨ x2))...\n",
      "Testing exactly-1 3-SAT instance (6, (¬x5 ∨ ¬x4 ∨ ¬x3) ∧ (x5 ∨ x2 ∨ x1) ∧ (x4 ∨ x3 ∨ ¬x1) ∧ (¬x3 ∨ ¬x2 ∨ ¬x0) ∧ (¬x2 ∨ x5 ∨ x4))...\n"
     ]
    },
    {
     "data": {
      "application/x-qsharp-data": "\"Success!\"",
      "text/plain": [
       "Success!"
      ]
     },
     "execution_count": 11,
     "metadata": {},
     "output_type": "execute_result"
    }
   ],
   "source": [
    "%kata T22_Oracle_Exactly1SAT \n",
    "\n",
    "operation Oracle_Exactly1_3SAT (queryRegister : Qubit[], target : Qubit, problem : (Int, Bool)[][]) : Unit is Adj {\n",
    "    let N = Length(problem);\n",
    "    use anc = Qubit[N];\n",
    "    // anc[i] has the answer to the ith problem.\n",
    "    within {\n",
    "        for i in 0 .. N - 1 {\n",
    "            for (idx, b) in problem[i] {\n",
    "                if (not b) {\n",
    "                   X(queryRegister[idx]);\n",
    "                }\n",
    "            }\n",
    "            \n",
    "            Oracle_Exactly1One(queryRegister, anc[i]);\n",
    "            \n",
    "            for (idx, b) in problem[i] {\n",
    "                if (not b) {\n",
    "                   X(queryRegister[idx]);\n",
    "                }\n",
    "            }\n",
    "        }\n",
    "    }\n",
    "    apply {\n",
    "        Oracle_And(anc, target);\n",
    "    }\n",
    "}"
   ]
  },
  {
   "cell_type": "markdown",
   "metadata": {},
   "source": [
    "*Can't come up with a solution? See the explained solution in the [Solve SAT problem with Grover's algorithm Workbook](./Workbook_SolveSATWithGrover.ipynb#Task-2.2.-\"Exactly-1-3-SAT\"-oracle).*"
   ]
  },
  {
   "cell_type": "markdown",
   "metadata": {},
   "source": [
    "## Part III. Using Grover's algorithm for problems with multiple solutions"
   ]
  },
  {
   "cell_type": "markdown",
   "metadata": {},
   "source": [
    "### Task 3.1. Using Grover's algorithm\n",
    "\n",
    "**Goal:**\n",
    "\n",
    "Implement Grover's algorithm and use it to find solutions to SAT instances from parts I and II. \n",
    "\n",
    "> If you want to learn the Grover's algorithm itself, try doing [GroversAlgorithm kata](./../GroversAlgorithm/GroversAlgorithm.ipynb) first.\n",
    "\n",
    "> This is an open-ended task, and is not covered by a unit test. To run the code, execute the cell with the definition of the `Run_GroversSearch_Algorithm` operation first; if it compiled successfully without any errors, you can run the operation by executing the next cell (`%simulate Run_GroversSearch_Algorithm`).\n",
    "\n",
    "> Note that this task relies on your implementations of the previous tasks. If you are getting the \"No variable with that name exists.\" error, you might have to execute previous code cells before retrying this task.\n",
    "\n",
    "<details>\n",
    "  <summary><b>Need a hint? Click here</b></summary>\n",
    "Experiment with SAT instances with different number of solutions and the number of algorithm iterations \n",
    "to see how the probability of the algorithm finding the correct answer changes depending on these two factors.\n",
    "\n",
    "For example, \n",
    "* the AND oracle from task 1.1 has exactly one solution,\n",
    "* the alternating bits oracle from task 1.4 has exactly two solutions,\n",
    "* the OR oracle from task 1.2 for 2 qubits has exactly 3 solutions, and so on.\n",
    "</details>"
   ]
  },
  {
   "cell_type": "code",
   "execution_count": 12,
   "metadata": {},
   "outputs": [
    {
     "data": {
      "application/x-qsharp-data": "[\"ApplyMarkingOracleAsPhaseOracle\"]",
      "text/html": [
       "<ul><li>ApplyMarkingOracleAsPhaseOracle</li></ul>"
      ],
      "text/plain": [
       "ApplyMarkingOracleAsPhaseOracle"
      ]
     },
     "execution_count": 12,
     "metadata": {},
     "output_type": "execute_result"
    }
   ],
   "source": [
    "operation ApplyMarkingOracleAsPhaseOracle (markingOracle: ((Qubit[], Qubit) => Unit is Adj), \n",
    "                                           qubits: Qubit[]) : Unit is Adj {\n",
    "    use y = Qubit();\n",
    "    \n",
    "    within {\n",
    "        X(y);\n",
    "        H(y);\n",
    "    }\n",
    "    apply {\n",
    "        markingOracle(qubits, y);\n",
    "    }\n",
    "}"
   ]
  },
  {
   "cell_type": "code",
   "execution_count": 13,
   "metadata": {},
   "outputs": [
    {
     "data": {
      "application/x-qsharp-data": "[\"OracleConverter\"]",
      "text/html": [
       "<ul><li>OracleConverter</li></ul>"
      ],
      "text/plain": [
       "OracleConverter"
      ]
     },
     "execution_count": 13,
     "metadata": {},
     "output_type": "execute_result"
    }
   ],
   "source": [
    "function OracleConverter (markingOracle : ((Qubit[], Qubit) => Unit is Adj)) : (Qubit[] => Unit is Adj) {\n",
    "    return ApplyMarkingOracleAsPhaseOracle(markingOracle, _);\n",
    "}"
   ]
  },
  {
   "cell_type": "code",
   "execution_count": 14,
   "metadata": {},
   "outputs": [
    {
     "data": {
      "application/x-qsharp-data": "[\"ConditionalPhaseFlip\"]",
      "text/html": [
       "<ul><li>ConditionalPhaseFlip</li></ul>"
      ],
      "text/plain": [
       "ConditionalPhaseFlip"
      ]
     },
     "execution_count": 14,
     "metadata": {},
     "output_type": "execute_result"
    }
   ],
   "source": [
    "operation ConditionalPhaseFlip (register : Qubit[]) : Unit is Adj {\n",
    "    use anc = Qubit();\n",
    "    within {\n",
    "        X(anc);\n",
    "        ApplyToEachA(X, register);\n",
    "    }\n",
    "    apply {\n",
    "        Controlled Z(register, anc);\n",
    "    }\n",
    "}"
   ]
  },
  {
   "cell_type": "code",
   "execution_count": 15,
   "metadata": {},
   "outputs": [
    {
     "data": {
      "application/x-qsharp-data": "[\"GroverIteration\"]",
      "text/html": [
       "<ul><li>GroverIteration</li></ul>"
      ],
      "text/plain": [
       "GroverIteration"
      ]
     },
     "execution_count": 15,
     "metadata": {},
     "output_type": "execute_result"
    }
   ],
   "source": [
    "operation GroverIteration (register : Qubit[], oracle : (Qubit[] => Unit is Adj)) : Unit is Adj {\n",
    "    // Apply the Oracle.\n",
    "    oracle(register);\n",
    "    \n",
    "    // Apply the Hadamard transform\n",
    "    ApplyToEachA(H, register);\n",
    "    \n",
    "    // Perform a conditional phase shift.\n",
    "    ConditionalPhaseFlip(register);\n",
    "    \n",
    "    // Apply the Hadamard transformation again.\n",
    "    ApplyToEachA(H, register);\n",
    "}"
   ]
  },
  {
   "cell_type": "code",
   "execution_count": 16,
   "metadata": {},
   "outputs": [
    {
     "data": {
      "application/x-qsharp-data": "[\"GroversSearch\"]",
      "text/html": [
       "<ul><li>GroversSearch</li></ul>"
      ],
      "text/plain": [
       "GroversSearch"
      ]
     },
     "execution_count": 16,
     "metadata": {},
     "output_type": "execute_result"
    }
   ],
   "source": [
    "operation GroversSearch (register : Qubit[], oracle : ((Qubit[], Qubit) => Unit is Adj), iterations : Int) : Unit {\n",
    "    let phaseOracle = OracleConverter(oracle);\n",
    "    \n",
    "    ApplyToEachA(H, register);\n",
    "    for i in 1 .. iterations {\n",
    "        GroverIteration(register, phaseOracle);\n",
    "    }\n",
    "}"
   ]
  },
  {
   "cell_type": "code",
   "execution_count": 24,
   "metadata": {},
   "outputs": [
    {
     "data": {
      "application/x-qsharp-data": "[\"Run_GroversSearch_Algorithm_Impl\"]",
      "text/html": [
       "<ul><li>Run_GroversSearch_Algorithm_Impl</li></ul>"
      ],
      "text/plain": [
       "Run_GroversSearch_Algorithm_Impl"
      ]
     },
     "execution_count": 24,
     "metadata": {},
     "output_type": "execute_result"
    }
   ],
   "source": [
    "operation Run_GroversSearch_Algorithm_Impl(N: Int, oracle : ((Qubit[], Qubit) => Unit is Adj), iterations : Int) : Unit {\n",
    "    use register = Qubit[N];\n",
    "    GroversSearch(register, oracle, iterations);\n",
    "    \n",
    "    for i in 0 .. N - 1 {\n",
    "        let result = M(register[i]);\n",
    "        if (result == Zero) {\n",
    "            Message($\"register[{i}] = 0\");\n",
    "        }\n",
    "        else {\n",
    "            Message($\"register[{i}] = 1\");\n",
    "        }\n",
    "    }\n",
    "}"
   ]
  },
  {
   "cell_type": "code",
   "execution_count": 26,
   "metadata": {},
   "outputs": [
    {
     "data": {
      "application/x-qsharp-data": "[\"Oracle_SATClause_Impl\"]",
      "text/html": [
       "<ul><li>Oracle_SATClause_Impl</li></ul>"
      ],
      "text/plain": [
       "Oracle_SATClause_Impl"
      ]
     },
     "execution_count": 26,
     "metadata": {},
     "output_type": "execute_result"
    }
   ],
   "source": [
    "operation Oracle_SATClause_Impl (queryRegister : Qubit[], target : Qubit) : Unit is Adj {\n",
    "    let clause = [(3, false), (1, true), (0, false), (2, true)];\n",
    "    \n",
    "    Oracle_SATClause(queryRegister, target, clause);\n",
    "}"
   ]
  },
  {
   "cell_type": "code",
   "execution_count": 34,
   "metadata": {},
   "outputs": [
    {
     "data": {
      "application/x-qsharp-data": "[\"Oracle_SAT_Impl\"]",
      "text/html": [
       "<ul><li>Oracle_SAT_Impl</li></ul>"
      ],
      "text/plain": [
       "Oracle_SAT_Impl"
      ]
     },
     "execution_count": 34,
     "metadata": {},
     "output_type": "execute_result"
    }
   ],
   "source": [
    "operation Oracle_SAT_Impl (queryRegister : Qubit[], target : Qubit) : Unit is Adj {\n",
    "    let problem = [[(0, false)], [(1, false), (3, true)], [(1, false), (0, false)]];\n",
    "    \n",
    "    Oracle_SAT(queryRegister, target, problem);\n",
    "}"
   ]
  },
  {
   "cell_type": "code",
   "execution_count": 45,
   "metadata": {},
   "outputs": [
    {
     "data": {
      "application/x-qsharp-data": "[\"Oracle_Exactly1_3SAT_Impl\"]",
      "text/html": [
       "<ul><li>Oracle_Exactly1_3SAT_Impl</li></ul>"
      ],
      "text/plain": [
       "Oracle_Exactly1_3SAT_Impl"
      ]
     },
     "execution_count": 45,
     "metadata": {},
     "output_type": "execute_result"
    }
   ],
   "source": [
    "operation Oracle_Exactly1_3SAT_Impl (queryRegister : Qubit[], target : Qubit) : Unit is Adj {\n",
    "    // (4, (x2 ∨ x0 ∨ x3) ∧ (¬x2 ∨ x3 ∨ x1) ∧ (¬x3 ∨ ¬x1 ∨ ¬x0)).\n",
    "    let problem = [[(2, true), (0, true), (3, true)], [(2, false), (3, true), (1, true)], [(3, false), (1, false), (0, true)]];\n",
    "    Oracle_Exactly1_3SAT(queryRegister, target, problem);\n",
    "}"
   ]
  },
  {
   "cell_type": "code",
   "execution_count": 47,
   "metadata": {},
   "outputs": [
    {
     "data": {
      "application/x-qsharp-data": "[\"Run_GroversSearch_Algorithm\"]",
      "text/html": [
       "<ul><li>Run_GroversSearch_Algorithm</li></ul>"
      ],
      "text/plain": [
       "Run_GroversSearch_Algorithm"
      ]
     },
     "execution_count": 47,
     "metadata": {},
     "output_type": "execute_result"
    }
   ],
   "source": [
    "operation Run_GroversSearch_Algorithm () : Unit {\n",
    "    // Optimal num iterations = approx (pi/4) * sqrt(M/N)\n",
    "    // Where N is the size of the problem space and M is the number of correct solutions.\n",
    "    \n",
    "    Message(\"And Oracle:\");\n",
    "    // And Oracle: optimal iterations approx. pi/4 * 4\n",
    "    Run_GroversSearch_Algorithm_Impl(4, Oracle_And, 3);\n",
    "    \n",
    "    Message(\"Or Oracle:\");\n",
    "    // Or Oracle: optimal iterations approx. pi/4 * sqrt(16/15) = 1\n",
    "    Run_GroversSearch_Algorithm_Impl(4, Oracle_Or, 2);\n",
    "    \n",
    "    Message(\"XOR Oracle:\");\n",
    "    // Xor Oracle: correct answers are:\n",
    "    // |0001>, |0010>, |0100>, |1000>\n",
    "    // |0111>, |1011>, |1101>, |1110>\n",
    "    Run_GroversSearch_Algorithm_Impl(4, Oracle_Xor, 2);\n",
    "    \n",
    "    Message(\"Alternating Bits Oracle:\");\n",
    "    // Alternating bits oracle: correct answers are:\n",
    "    // |1010>, |0101>\n",
    "    Run_GroversSearch_Algorithm_Impl(4, Oracle_AlternatingBits, 2);\n",
    "    \n",
    "    Message(\"SAT Clause Oracle:\");\n",
    "    // Oracle_SAT_Clause for ¬x3 ∨ x1 ∨ ¬x0 ∨ x2\n",
    "    Run_GroversSearch_Algorithm_Impl(4, Oracle_SATClause_Impl, 4);\n",
    "    \n",
    "    Message(\"Oracle_SAT for (4, (¬x0) ∧ (¬x1 ∨ x3) ∧ (¬x1 ∨ ¬x0))\");\n",
    "    Run_GroversSearch_Algorithm_Impl(4, Oracle_SAT_Impl, 4);\n",
    "    \n",
    "    Message(\"Oracle_Exactly1One\");\n",
    "    Run_GroversSearch_Algorithm_Impl(4, Oracle_Exactly1One, 4);\n",
    "    \n",
    "    Message(\"Oracle_Exactly1_3SAT\");\n",
    "    // (4, (x2 ∨ x0 ∨ x3) ∧ (¬x2 ∨ x3 ∨ x1) ∧ (¬x3 ∨ ¬x1 ∨ ¬x0)).\n",
    "    Run_GroversSearch_Algorithm_Impl(4, Oracle_Exactly1_3SAT_Impl, 4);\n",
    "}"
   ]
  },
  {
   "cell_type": "code",
   "execution_count": null,
   "metadata": {},
   "outputs": [
    {
     "name": "stdout",
     "output_type": "stream",
     "text": [
      "And Oracle:\n",
      "register[0] = 1\n",
      "register[1] = 1\n",
      "register[2] = 1\n",
      "register[3] = 1\n",
      "Or Oracle:\n",
      "register[0] = 0\n",
      "register[1] = 0\n",
      "register[2] = 0\n",
      "register[3] = 0\n",
      "XOR Oracle:\n",
      "register[0] = 1\n",
      "register[1] = 0\n",
      "register[2] = 0\n",
      "register[3] = 0\n",
      "Alternating Bits Oracle:\n",
      "register[0] = 1\n",
      "register[1] = 0\n",
      "register[2] = 1\n",
      "register[3] = 0\n",
      "SAT Clause Oracle:\n",
      "register[0] = 0\n",
      "register[1] = 0\n",
      "register[2] = 1\n",
      "register[3] = 0\n",
      "Oracle_SAT for (4, (¬x0) ∧ (¬x1 ∨ x3) ∧ (¬x1 ∨ ¬x0))\n",
      "register[0] = 1\n",
      "register[1] = 0\n",
      "register[2] = 0\n",
      "register[3] = 0\n",
      "Oracle_Exactly1One\n",
      "register[0] = 1\n",
      "register[1] = 0\n",
      "register[2] = 0\n",
      "register[3] = 0\n",
      "Oracle_Exactly1_3SAT\n",
      "register[0] = 1\n",
      "register[1] = 0\n",
      "register[2] = 1\n",
      "register[3] = 1\n"
     ]
    },
    {
     "data": {
      "application/x-qsharp-data": "{\"@type\":\"tuple\"}",
      "text/plain": [
       "()"
      ]
     },
     "execution_count": 48,
     "metadata": {},
     "output_type": "execute_result"
    }
   ],
   "source": [
    "%simulate Run_GroversSearch_Algorithm"
   ]
  },
  {
   "cell_type": "markdown",
   "metadata": {},
   "source": [
    "*Can't come up with a solution? See the explained solution in the [Solve SAT problem with Grover's algorithm Workbook](./Workbook_SolveSATWithGrover.ipynb#Task-3.1.-Using-Grover's-algorithm).*"
   ]
  },
  {
   "cell_type": "markdown",
   "metadata": {},
   "source": [
    "### Task 3.2. Universal implementation of Grover's algorithm\n",
    "\n",
    "**Inputs:**\n",
    "\n",
    "  1. The number of qubits N.\n",
    "\n",
    "  2. A marking oracle which implements a boolean expression, similar to the oracles from part I.\n",
    "\n",
    "**Output:**\n",
    "\n",
    "An array of N boolean values which satisfy the expression implemented by the oracle \n",
    "(i.e., any basis state marked by the oracle).\n",
    "\n",
    "> Note that the similar task in the [GroversAlgorithm kata](./../GroversAlgorithm/GroversAlgorithm.ipynb) required you to implement Grover's algorithm \n",
    "in a way that would be robust to accidental failures, but you knew the optimal number of iterations \n",
    "(the number that minimized the probability of such failure).\n",
    "> \n",
    "> In this task you also need to make your implementation robust to not knowing the optimal number of iterations.\n",
    "> You can see an example of doing that in [Exploring Grover's Algorithm tutorial](./../tutorials/ExploringGroversAlgorithm/ExploringGroversAlgorithm.ipynb)."
   ]
  },
  {
   "cell_type": "code",
   "execution_count": 53,
   "metadata": {
    "tags": [
     "timeout"
    ]
   },
   "outputs": [
    {
     "name": "stdout",
     "output_type": "stream",
     "text": [
      "Trying search with 1 iterations\n",
      "[True,True]\n",
      "Trying search with 1 iterations\n",
      "[True,False]\n",
      "Trying search with 1 iterations\n",
      "Trying search with 2 iterations\n",
      "Trying search with 4 iterations\n",
      "Trying search with 8 iterations\n",
      "Trying search with 16 iterations\n",
      "Trying search with 32 iterations\n",
      "Trying search with 64 iterations\n",
      "Trying search with 128 iterations\n",
      "[False,True]\n",
      "Trying search with 1 iterations\n",
      "[False,True,False,True]\n",
      "Trying search with 1 iterations\n",
      "Trying search with 2 iterations\n",
      "[True,False,True,False,False,True]\n"
     ]
    },
    {
     "data": {
      "application/x-qsharp-data": "\"Success!\"",
      "text/plain": [
       "Success!"
      ]
     },
     "execution_count": 53,
     "metadata": {},
     "output_type": "execute_result"
    }
   ],
   "source": [
    "%kata T32_UniversalGroversAlgorithm \n",
    "\n",
    "open Microsoft.Quantum.Convert;\n",
    "open Microsoft.Quantum.Measurement;\n",
    "\n",
    "operation UniversalGroversAlgorithm (N : Int, oracle : ((Qubit[], Qubit) => Unit is Adj)) : Bool[] {\n",
    "    // In this task you don't know the optimal number of iterations upfront, \n",
    "    // so it makes sense to try different numbers of iterations.\n",
    "    // This way, even if you don't hit the \"correct\" number of iterations on one of your tries,\n",
    "    // you'll eventually get a high enough success probability.\n",
    "\n",
    "    // This solution tries numbers of iterations that are powers of 2;\n",
    "    // this is not the only valid solution, since a lot of sequences will eventually yield the answer.\n",
    "    mutable answer = [false, size = N];\n",
    "    use (register, output) = (Qubit[N], Qubit());\n",
    "    mutable correct = false;\n",
    "    mutable iter = 1;\n",
    "    repeat {\n",
    "        Message($\"Trying search with {iter} iterations\");\n",
    "        GroversSearch (register, oracle, iter);\n",
    "        let res = MultiM(register);\n",
    "        // to check whether the result is correct, apply the oracle to the register plus ancilla after measurement\n",
    "        oracle(register, output);\n",
    "        if (MResetZ(output) == One) {\n",
    "            set correct = true;\n",
    "            set answer = ResultArrayAsBoolArray(res);\n",
    "        }\n",
    "        ResetAll(register);\n",
    "    } until (correct or iter > 100)  // the fail-safe to avoid going into an infinite loop\n",
    "    fixup {\n",
    "        set iter *= 2;\n",
    "    }\n",
    "    if (not correct) {\n",
    "        fail \"Failed to find an answer\";\n",
    "    }\n",
    "    Message($\"{answer}\");\n",
    "    return answer;\n",
    "}"
   ]
  },
  {
   "cell_type": "markdown",
   "metadata": {},
   "source": [
    "*Can't come up with a solution? See the explained solution in the [Solve SAT problem with Grover's algorithm Workbook](./Workbook_SolveSATWithGrover.ipynb#Task-3.2.-Universal-implementation-of-Grover's-algorithm).*"
   ]
  }
 ],
 "metadata": {
  "kernelspec": {
   "display_name": "Q#",
   "language": "qsharp",
   "name": "iqsharp"
  },
  "language_info": {
   "file_extension": ".qs",
   "mimetype": "text/x-qsharp",
   "name": "qsharp",
   "version": "0.14"
  }
 },
 "nbformat": 4,
 "nbformat_minor": 2
}
